{
 "cells": [
  {
   "cell_type": "code",
   "execution_count": 1,
   "metadata": {},
   "outputs": [],
   "source": [
    "from src.data.generate_dataset import generate_balanced_dataset\n",
    "from src.data.generate_noise import generate_noise_dataset, generate_noise_image\n",
    "from src.data.generate_image import generate_image"
   ]
  },
  {
   "cell_type": "markdown",
   "metadata": {},
   "source": [
    "# Generate balanced dataset #"
   ]
  },
  {
   "cell_type": "code",
   "execution_count": 2,
   "metadata": {},
   "outputs": [],
   "source": [
    "DATASET_PATH = \"../data/interim/generated/frames1/\"\n",
    "NOISE_PATH = \"../data/interim/generated/noise1/\"\n",
    "\n",
    "RAW_FRAMES_PATH = \"../data/raw/frames\""
   ]
  },
  {
   "cell_type": "code",
   "execution_count": 8,
   "metadata": {},
   "outputs": [
    {
     "name": "stderr",
     "output_type": "stream",
     "text": [
      " 52%|█████▏    | 52/100 [00:10<00:09,  5.20it/s]\n"
     ]
    },
    {
     "ename": "KeyboardInterrupt",
     "evalue": "",
     "output_type": "error",
     "traceback": [
      "\u001b[1;31m---------------------------------------------------------------------------\u001b[0m",
      "\u001b[1;31mKeyboardInterrupt\u001b[0m                         Traceback (most recent call last)",
      "Cell \u001b[1;32mIn [8], line 1\u001b[0m\n\u001b[1;32m----> 1\u001b[0m generate_balanced_dataset(path\u001b[39m=\u001b[39;49mDATASET_PATH, n_copies\u001b[39m=\u001b[39;49m\u001b[39m3\u001b[39;49m,epsilon_range\u001b[39m=\u001b[39;49m(\u001b[39m0.0\u001b[39;49m, \u001b[39m0.1\u001b[39;49m), noise_path\u001b[39m=\u001b[39;49mNOISE_PATH, seed\u001b[39m=\u001b[39;49m\u001b[39m12\u001b[39;49m)\n",
      "File \u001b[1;32mc:\\Users\\janko\\anaconda3\\envs\\surface-topography\\lib\\site-packages\\src\\data\\generate_dataset.py:129\u001b[0m, in \u001b[0;36mgenerate_balanced_dataset\u001b[1;34m(path, n_copies, epsilon_range, epsilon_step, size, brightness, center_shift, zipfile, filename, save_parameters, parameters_filename, noise_path, seed)\u001b[0m\n\u001b[0;32m    125\u001b[0m \u001b[39mfor\u001b[39;00m _ \u001b[39min\u001b[39;00m \u001b[39mrange\u001b[39m(n_copies):\n\u001b[0;32m    126\u001b[0m     ring_center \u001b[39m=\u001b[39m (width_centers[img_index],\n\u001b[0;32m    127\u001b[0m                    height_centers[img_index])\n\u001b[1;32m--> 129\u001b[0m     img \u001b[39m=\u001b[39m generate_image(_epsilon, size, ring_center, brightness, noise_path, choosen_noises[img_index])\n\u001b[0;32m    130\u001b[0m     img_filename \u001b[39m=\u001b[39m \u001b[39mf\u001b[39m\u001b[39m\"\u001b[39m\u001b[39m{\u001b[39;00m\u001b[39mstr\u001b[39m(img_index)\u001b[39m.\u001b[39mzfill(\u001b[39m5\u001b[39m)\u001b[39m}\u001b[39;00m\u001b[39m.png\u001b[39m\u001b[39m\"\u001b[39m\n\u001b[0;32m    132\u001b[0m     \u001b[39mif\u001b[39;00m zipfile:\n",
      "File \u001b[1;32mc:\\Users\\janko\\anaconda3\\envs\\surface-topography\\lib\\site-packages\\src\\data\\generate_image.py:108\u001b[0m, in \u001b[0;36mgenerate_image\u001b[1;34m(epsilon, size, ring_center, brightness, noise_path, noise_file_index)\u001b[0m\n\u001b[0;32m    105\u001b[0m \u001b[39melse\u001b[39;00m:\n\u001b[0;32m    106\u001b[0m     noise_image_filename \u001b[39m=\u001b[39m pkg_resources\u001b[39m.\u001b[39mresource_filename(\u001b[39m__name__\u001b[39m, \u001b[39mf\u001b[39m\u001b[39m\"\u001b[39m\u001b[39m/samples/noise/\u001b[39m\u001b[39m{\u001b[39;00mnoise_file_index\u001b[39m}\u001b[39;00m\u001b[39m.png\u001b[39m\u001b[39m\"\u001b[39m)\n\u001b[1;32m--> 108\u001b[0m noise_image \u001b[39m=\u001b[39m cv2\u001b[39m.\u001b[39;49mimread(noise_image_filename)\n\u001b[0;32m    110\u001b[0m \u001b[39mif\u001b[39;00m ( noise_image\u001b[39m.\u001b[39mshape[:\u001b[39m2\u001b[39m] \u001b[39m!=\u001b[39m size):\n\u001b[0;32m    111\u001b[0m     noise_image \u001b[39m=\u001b[39m cv2\u001b[39m.\u001b[39mresize(noise_image, size, interpolation\u001b[39m=\u001b[39mcv2\u001b[39m.\u001b[39mINTER_AREA)\n",
      "\u001b[1;31mKeyboardInterrupt\u001b[0m: "
     ]
    }
   ],
   "source": [
    "generate_balanced_dataset(path=DATASET_PATH, n_copies=3,epsilon_range=(0.0, 0.1), noise_path=NOISE_PATH, seed=12)"
   ]
  },
  {
   "cell_type": "code",
   "execution_count": 5,
   "metadata": {},
   "outputs": [
    {
     "name": "stderr",
     "output_type": "stream",
     "text": [
      "100%|██████████| 100/100 [00:09<00:00, 10.41it/s]\n"
     ]
    }
   ],
   "source": [
    "generate_balanced_dataset(path=DATASET_PATH, n_copies=1, epsilon_range=(0.0, 0.1), seed=12)"
   ]
  },
  {
   "cell_type": "code",
   "execution_count": 24,
   "metadata": {},
   "outputs": [],
   "source": [
    "import numpy as np"
   ]
  },
  {
   "cell_type": "code",
   "execution_count": 28,
   "metadata": {},
   "outputs": [
    {
     "data": {
      "text/plain": [
       "250"
      ]
     },
     "execution_count": 28,
     "metadata": {},
     "output_type": "execute_result"
    }
   ],
   "source": [
    "len(np.arange(0.0, 0.5, 0.002))"
   ]
  },
  {
   "cell_type": "code",
   "execution_count": 4,
   "metadata": {},
   "outputs": [
    {
     "name": "stderr",
     "output_type": "stream",
     "text": [
      " 20%|█▉        | 196/1000 [09:51<40:26,  3.02s/it]  \n"
     ]
    },
    {
     "ename": "KeyboardInterrupt",
     "evalue": "",
     "output_type": "error",
     "traceback": [
      "\u001b[1;31m---------------------------------------------------------------------------\u001b[0m",
      "\u001b[1;31mKeyboardInterrupt\u001b[0m                         Traceback (most recent call last)",
      "Cell \u001b[1;32mIn [4], line 1\u001b[0m\n\u001b[1;32m----> 1\u001b[0m generate_balanced_dataset(path \u001b[39m=\u001b[39;49m DATASET_PATH, n_copies\u001b[39m=\u001b[39;49m\u001b[39m25\u001b[39;49m, noise_path\u001b[39m=\u001b[39;49mNOISE_PATH, zipfile\u001b[39m=\u001b[39;49m\u001b[39mTrue\u001b[39;49;00m, filename\u001b[39m=\u001b[39;49m\u001b[39m\"\u001b[39;49m\u001b[39mdata25copies.zip\u001b[39;49m\u001b[39m\"\u001b[39;49m)\n",
      "File \u001b[1;32mc:\\Users\\janko\\anaconda3\\envs\\surface-topography\\lib\\site-packages\\src\\data\\generate_dataset.py:115\u001b[0m, in \u001b[0;36mgenerate_balanced_dataset\u001b[1;34m(path, n_copies, epsilon_range, epsilon_step, size, brightness, center_shift, zipfile, filename, save_parameters, parameters_filename, noise_path, seed)\u001b[0m\n\u001b[0;32m    112\u001b[0m img_filename \u001b[39m=\u001b[39m \u001b[39mf\u001b[39m\u001b[39m\"\u001b[39m\u001b[39m{\u001b[39;00m\u001b[39mstr\u001b[39m(img_index)\u001b[39m.\u001b[39mzfill(\u001b[39m5\u001b[39m)\u001b[39m}\u001b[39;00m\u001b[39m.png\u001b[39m\u001b[39m\"\u001b[39m\n\u001b[0;32m    114\u001b[0m \u001b[39mif\u001b[39;00m zipfile:\n\u001b[1;32m--> 115\u001b[0m     save2zip(img, img_filename, filename, path)\n\u001b[0;32m    116\u001b[0m \u001b[39melse\u001b[39;00m:\n\u001b[0;32m    117\u001b[0m     save2directory(img, img_filename ,path)\n",
      "File \u001b[1;32mc:\\Users\\janko\\anaconda3\\envs\\surface-topography\\lib\\site-packages\\src\\data\\generate_utils.py:23\u001b[0m, in \u001b[0;36msave2zip\u001b[1;34m(img, img_filename, filename, path)\u001b[0m\n\u001b[0;32m     20\u001b[0m     zip_path \u001b[39m=\u001b[39m path\u001b[39m+\u001b[39mfilename\n\u001b[0;32m     22\u001b[0m _, encoded_image \u001b[39m=\u001b[39m cv2\u001b[39m.\u001b[39mimencode(\u001b[39m\"\u001b[39m\u001b[39m.png\u001b[39m\u001b[39m\"\u001b[39m, img)\n\u001b[1;32m---> 23\u001b[0m \u001b[39mwith\u001b[39;00m ZipFile(zip_path, \u001b[39m\"\u001b[39;49m\u001b[39ma\u001b[39;49m\u001b[39m\"\u001b[39;49m) \u001b[39mas\u001b[39;00m \u001b[39mzip\u001b[39m:\n\u001b[0;32m     24\u001b[0m     \u001b[39mzip\u001b[39m\u001b[39m.\u001b[39mwritestr(img_filename, encoded_image\u001b[39m.\u001b[39mtobytes())\n",
      "File \u001b[1;32mc:\\Users\\janko\\anaconda3\\envs\\surface-topography\\lib\\zipfile.py:1289\u001b[0m, in \u001b[0;36mZipFile.__init__\u001b[1;34m(self, file, mode, compression, allowZip64, compresslevel, strict_timestamps)\u001b[0m\n\u001b[0;32m   1286\u001b[0m \u001b[39melif\u001b[39;00m mode \u001b[39m==\u001b[39m \u001b[39m'\u001b[39m\u001b[39ma\u001b[39m\u001b[39m'\u001b[39m:\n\u001b[0;32m   1287\u001b[0m     \u001b[39mtry\u001b[39;00m:\n\u001b[0;32m   1288\u001b[0m         \u001b[39m# See if file is a zip file\u001b[39;00m\n\u001b[1;32m-> 1289\u001b[0m         \u001b[39mself\u001b[39;49m\u001b[39m.\u001b[39;49m_RealGetContents()\n\u001b[0;32m   1290\u001b[0m         \u001b[39m# seek to start of directory and overwrite\u001b[39;00m\n\u001b[0;32m   1291\u001b[0m         \u001b[39mself\u001b[39m\u001b[39m.\u001b[39mfp\u001b[39m.\u001b[39mseek(\u001b[39mself\u001b[39m\u001b[39m.\u001b[39mstart_dir)\n",
      "File \u001b[1;32mc:\\Users\\janko\\anaconda3\\envs\\surface-topography\\lib\\zipfile.py:1389\u001b[0m, in \u001b[0;36mZipFile._RealGetContents\u001b[1;34m(self)\u001b[0m\n\u001b[0;32m   1387\u001b[0m \u001b[39m# Convert date/time code to (year, month, day, hour, min, sec)\u001b[39;00m\n\u001b[0;32m   1388\u001b[0m x\u001b[39m.\u001b[39m_raw_time \u001b[39m=\u001b[39m t\n\u001b[1;32m-> 1389\u001b[0m x\u001b[39m.\u001b[39mdate_time \u001b[39m=\u001b[39m ( (d\u001b[39m>>\u001b[39m\u001b[39m9\u001b[39m)\u001b[39m+\u001b[39m\u001b[39m1980\u001b[39m, (d\u001b[39m>>\u001b[39;49m\u001b[39m5\u001b[39;49m)\u001b[39m&\u001b[39;49m\u001b[39m0xF\u001b[39;49m, d\u001b[39m&\u001b[39m\u001b[39m0x1F\u001b[39m,\n\u001b[0;32m   1390\u001b[0m                 t\u001b[39m>>\u001b[39m\u001b[39m11\u001b[39m, (t\u001b[39m>>\u001b[39m\u001b[39m5\u001b[39m)\u001b[39m&\u001b[39m\u001b[39m0x3F\u001b[39m, (t\u001b[39m&\u001b[39m\u001b[39m0x1F\u001b[39m) \u001b[39m*\u001b[39m \u001b[39m2\u001b[39m )\n\u001b[0;32m   1392\u001b[0m x\u001b[39m.\u001b[39m_decodeExtra()\n\u001b[0;32m   1393\u001b[0m x\u001b[39m.\u001b[39mheader_offset \u001b[39m=\u001b[39m x\u001b[39m.\u001b[39mheader_offset \u001b[39m+\u001b[39m concat\n",
      "\u001b[1;31mKeyboardInterrupt\u001b[0m: "
     ]
    }
   ],
   "source": [
    "generate_balanced_dataset(path = DATASET_PATH, n_copies=25, noise_path=NOISE_PATH, zipfile=True, filename=\"data25copies.zip\")"
   ]
  },
  {
   "cell_type": "code",
   "execution_count": 20,
   "metadata": {},
   "outputs": [],
   "source": [
    "import torch\n",
    "from torch.utils.data import DataLoader, Dataset\n",
    "from torchvision import transforms\n",
    "\n",
    "import numpy as np\n",
    "from PIL import Image"
   ]
  },
  {
   "cell_type": "code",
   "execution_count": 3,
   "metadata": {},
   "outputs": [],
   "source": [
    "import pandas as pd\n",
    "\n",
    "parameters = pd.read_csv(DATASET_PATH+\"parameters.csv\", index_col=False)"
   ]
  },
  {
   "cell_type": "code",
   "execution_count": 9,
   "metadata": {},
   "outputs": [
    {
     "data": {
      "text/html": [
       "<div>\n",
       "<style scoped>\n",
       "    .dataframe tbody tr th:only-of-type {\n",
       "        vertical-align: middle;\n",
       "    }\n",
       "\n",
       "    .dataframe tbody tr th {\n",
       "        vertical-align: top;\n",
       "    }\n",
       "\n",
       "    .dataframe thead th {\n",
       "        text-align: right;\n",
       "    }\n",
       "</style>\n",
       "<table border=\"1\" class=\"dataframe\">\n",
       "  <thead>\n",
       "    <tr style=\"text-align: right;\">\n",
       "      <th></th>\n",
       "      <th>width</th>\n",
       "      <th>height</th>\n",
       "      <th>epsilon</th>\n",
       "      <th>ring_center_width</th>\n",
       "      <th>ring_center_height</th>\n",
       "      <th>min_brightness</th>\n",
       "      <th>max_brightness</th>\n",
       "      <th>filename</th>\n",
       "    </tr>\n",
       "  </thead>\n",
       "  <tbody>\n",
       "    <tr>\n",
       "      <th>0</th>\n",
       "      <td>640</td>\n",
       "      <td>480</td>\n",
       "      <td>0.000</td>\n",
       "      <td>323</td>\n",
       "      <td>240</td>\n",
       "      <td>80</td>\n",
       "      <td>210</td>\n",
       "      <td>00000.png</td>\n",
       "    </tr>\n",
       "    <tr>\n",
       "      <th>1</th>\n",
       "      <td>640</td>\n",
       "      <td>480</td>\n",
       "      <td>0.001</td>\n",
       "      <td>324</td>\n",
       "      <td>243</td>\n",
       "      <td>80</td>\n",
       "      <td>210</td>\n",
       "      <td>00001.png</td>\n",
       "    </tr>\n",
       "    <tr>\n",
       "      <th>2</th>\n",
       "      <td>640</td>\n",
       "      <td>480</td>\n",
       "      <td>0.002</td>\n",
       "      <td>324</td>\n",
       "      <td>237</td>\n",
       "      <td>80</td>\n",
       "      <td>210</td>\n",
       "      <td>00002.png</td>\n",
       "    </tr>\n",
       "    <tr>\n",
       "      <th>3</th>\n",
       "      <td>640</td>\n",
       "      <td>480</td>\n",
       "      <td>0.003</td>\n",
       "      <td>317</td>\n",
       "      <td>244</td>\n",
       "      <td>80</td>\n",
       "      <td>210</td>\n",
       "      <td>00003.png</td>\n",
       "    </tr>\n",
       "    <tr>\n",
       "      <th>4</th>\n",
       "      <td>640</td>\n",
       "      <td>480</td>\n",
       "      <td>0.004</td>\n",
       "      <td>326</td>\n",
       "      <td>239</td>\n",
       "      <td>80</td>\n",
       "      <td>210</td>\n",
       "      <td>00004.png</td>\n",
       "    </tr>\n",
       "  </tbody>\n",
       "</table>\n",
       "</div>"
      ],
      "text/plain": [
       "   width  height  epsilon  ring_center_width  ring_center_height  \\\n",
       "0    640     480    0.000                323                 240   \n",
       "1    640     480    0.001                324                 243   \n",
       "2    640     480    0.002                324                 237   \n",
       "3    640     480    0.003                317                 244   \n",
       "4    640     480    0.004                326                 239   \n",
       "\n",
       "   min_brightness  max_brightness   filename  \n",
       "0              80             210  00000.png  \n",
       "1              80             210  00001.png  \n",
       "2              80             210  00002.png  \n",
       "3              80             210  00003.png  \n",
       "4              80             210  00004.png  "
      ]
     },
     "execution_count": 9,
     "metadata": {},
     "output_type": "execute_result"
    }
   ],
   "source": [
    "parameters.head()"
   ]
  },
  {
   "cell_type": "code",
   "execution_count": 71,
   "metadata": {},
   "outputs": [],
   "source": [
    "class ImageDataset(Dataset):\n",
    "    def __init__(self, path: str, parameters: pd.DataFrame, transform=None) -> None:\n",
    "        self.image_paths = np.array([path + filename for filename in parameters['filename'].to_numpy()])\n",
    "        self.labels = parameters['epsilon'].to_numpy()\n",
    "        self.transform = transform\n",
    "    \n",
    "    def __getitem__(self, inx):\n",
    "        image_path = self.image_paths[inx]\n",
    "        label = self.labels[inx]\n",
    "        image = Image.open(image_path)\n",
    "        if self.transform:\n",
    "            image = self.transform(image)\n",
    "        return image, label\n",
    "        \n",
    "    def __len__(self):\n",
    "        return len(self.image_paths)"
   ]
  },
  {
   "cell_type": "code",
   "execution_count": 72,
   "metadata": {},
   "outputs": [],
   "source": [
    "transform = transforms.Compose([\n",
    "    transforms.Resize(size=(224,224)),\n",
    "    transforms.ToTensor(),\n",
    "    transforms.Normalize(mean=[0.5], std=[0.5])\n",
    "])"
   ]
  },
  {
   "cell_type": "code",
   "execution_count": 65,
   "metadata": {},
   "outputs": [],
   "source": [
    "image_dataset = ImageDataset(path=DATASET_PATH, parameters=parameters, transform=transform)"
   ]
  },
  {
   "cell_type": "code",
   "execution_count": 89,
   "metadata": {},
   "outputs": [],
   "source": [
    "import math\n",
    "from typing import Tuple\n",
    "from numpy.linalg import matrix_power"
   ]
  },
  {
   "cell_type": "code",
   "execution_count": 87,
   "metadata": {},
   "outputs": [],
   "source": [
    "y, x = np.indices([480, 640])"
   ]
  },
  {
   "cell_type": "code",
   "execution_count": 108,
   "metadata": {},
   "outputs": [],
   "source": [
    "new = generate_pure_image(size=(640,480), epsilon=0.5, ring_center=(320, 240), brightness=(80,210))"
   ]
  },
  {
   "cell_type": "code",
   "execution_count": 115,
   "metadata": {},
   "outputs": [],
   "source": [
    "old = generate_pure_image(size=(640,480), epsilon=0.5, ring_center=(320, 240), brightness=(80,210))"
   ]
  },
  {
   "cell_type": "code",
   "execution_count": 116,
   "metadata": {},
   "outputs": [
    {
     "data": {
      "text/plain": [
       "True"
      ]
     },
     "execution_count": 116,
     "metadata": {},
     "output_type": "execute_result"
    }
   ],
   "source": [
    "np.array_equal(old, new)"
   ]
  },
  {
   "cell_type": "code",
   "execution_count": null,
   "metadata": {},
   "outputs": [],
   "source": []
  }
 ],
 "metadata": {
  "kernelspec": {
   "display_name": "Python 3.8.13 ('surface-topography')",
   "language": "python",
   "name": "python3"
  },
  "language_info": {
   "codemirror_mode": {
    "name": "ipython",
    "version": 3
   },
   "file_extension": ".py",
   "mimetype": "text/x-python",
   "name": "python",
   "nbconvert_exporter": "python",
   "pygments_lexer": "ipython3",
   "version": "3.8.13"
  },
  "orig_nbformat": 4,
  "vscode": {
   "interpreter": {
    "hash": "a59b657c7b188ecbcd7bd87203e8fcf25c51894b3adff86deb087e1ba53457cb"
   }
  }
 },
 "nbformat": 4,
 "nbformat_minor": 2
}
